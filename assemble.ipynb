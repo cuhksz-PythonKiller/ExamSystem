{
 "cells": [
  {
   "cell_type": "code",
   "execution_count": null,
   "metadata": {},
   "outputs": [],
   "source": [
    "'''\n",
    "一些说明：\n",
    "私有函数：函数名前是两个下划线__，说明仅供后端调用，不开放给前端\n",
    "'''"
   ]
  },
  {
   "cell_type": "code",
   "execution_count": 28,
   "metadata": {},
   "outputs": [],
   "source": [
    "import pandas as pd\n",
    "import random\n",
    "\n",
    "# 获取小题题目类型函数\n",
    "# 返回一个字典\n",
    "def __getProblemType_dict():\n",
    "    df_ProblemType=pd.read_excel('excel_all.xlsx',sheet_name='ProblemType')\n",
    "    ProblemType_dict={}\n",
    "    for i in range(0,len(df_ProblemType)):\n",
    "        TypeNum=df_ProblemType.loc[i,'TypeNum'] # i行TypeNum列\n",
    "        TypeName=df_ProblemType.loc[i,'TypeName']\n",
    "        ProblemType_dict[TypeNum]=TypeName\n",
    "    return ProblemType_dict\n"
   ]
  },
  {
   "cell_type": "code",
   "execution_count": null,
   "metadata": {},
   "outputs": [],
   "source": [
    "# 大题类型，字典存储\n",
    "PROBLEM_SET_DICT={\n",
    "    'Basic python':'BasicPython',\n",
    "    'loop&logic':'LoopAndLogic', \n",
    "    'Function':'Function',\n",
    "    'Virtualization':'Virtualization',\n",
    "    'Nump& Pandas&others':'NumpAndPandas'\n",
    "}\n"
   ]
  },
  {
   "cell_type": "code",
   "execution_count": 32,
   "metadata": {},
   "outputs": [],
   "source": [
    "#小题对象：单选、判断、多选、填空\n",
    "class SingleChoice:\n",
    "    def __init__(self,problemid,problemTypeNum,problem):\n",
    "        self.problemid=problemid\n",
    "        self.problemTypeNum=problemTypeNum\n",
    "        self.problem=problem\n",
    "\n",
    "    def set_choice(self,A,B,C,D):\n",
    "        self.A=A\n",
    "        self.B=B\n",
    "        self.C=C\n",
    "        self.D=D\n",
    "    \n",
    "    def __str__(self):#打印print(对象)\n",
    "        return \"题号：%d 题型：单选题 题目：%s A.%s B.%s C.%s D.%s\" % (self.problemid,self.problem,self.A,self.B,self.C,self.D)\n",
    "\n",
    "class MultipleChoice:\n",
    "    def __init__(self,problemid,problemTypeNum,problem):\n",
    "        self.problemid=problemid\n",
    "        self.problemTypeNum=problemTypeNum\n",
    "        self.problem=problem\n",
    "\n",
    "    def set_choice(self,A,B,C,D):\n",
    "        self.A=A\n",
    "        self.B=B\n",
    "        self.C=C\n",
    "        self.D=D\n",
    "    \n",
    "    def __str__(self):\n",
    "        return \"题号：%d 题型：多选题 题目：%s A.%s B.%s C.%s D.%s\" % (self.problemid,self.problem,self.A,self.B,self.C,self.D)\n",
    "       \n",
    "class Judge:\n",
    "    def __init__(self,problemid,problemTypeNum,problem):\n",
    "        self.problemid=problemid\n",
    "        self.problemTypeNum=problemTypeNum\n",
    "        self.problem=problem\n",
    "\n",
    "    def set_choice(self,A,B):\n",
    "        self.A=A\n",
    "        self.B=B\n",
    "\n",
    "    def __str__(self):\n",
    "        return \"题号：%d 题型：判断题 题目：%s A.%s B.%s\" % (self.problemid,self.problem,self.A,self.B)\n",
    "        \n",
    "\n",
    "class FillBlanks:\n",
    "    def __init__(self,problemid,problemTypeNum,problem):\n",
    "        self.problemid=problemid\n",
    "        self.problemTypeNum=problemTypeNum\n",
    "        self.problem=problem\n",
    "    \n",
    "    def __str__(self):\n",
    "        return \"题号：%d 题型：填空题 题目：%s\" % (self.problemid,self.problem)\n",
    "\n",
    "class CodeProblem:\n",
    "    def __init__(self,problemid,problemTypeNum,problem):\n",
    "        self.problemid=problemid\n",
    "        self.problemTypeNum=problemTypeNum\n",
    "        self.problem=problem\n",
    "    \n",
    "    def __str__(self):\n",
    "        return \"题号：%d 题型：填空题 题目：%s\" % (self.problemid,self.problem)\n",
    "\n",
    "class Answer:\n",
    "    def __init__(self,problemid,type,answer):\n",
    "        self.problemid=problemid\n",
    "        self.type=type      \n",
    "        self.answer=answer\n",
    "\n",
    "    def __str__(self):\n",
    "        return f\"题号：{self.problemid} 题型：{self.type} 答案：{self.answer}\""
   ]
  },
  {
   "cell_type": "code",
   "execution_count": 54,
   "metadata": {},
   "outputs": [],
   "source": [
    "# 从pandas的dataframe构造小题对象的构造函数\n",
    "def __build_SingleChoice(df_problem_row):\n",
    "    singleChoice = SingleChoice(df_problem_row['problemid'],df_problem_row['type'],df_problem_row['problem'])\n",
    "    singleChoice.set_choice(df_problem_row['A'],df_problem_row['B'],df_problem_row['C'],df_problem_row['D'])\n",
    "    return singleChoice\n",
    "\n",
    "def __build_MultipleChoice(df_problem_row):\n",
    "    multipleChoice = MultipleChoice(df_problem_row['problemid'],df_problem_row['type'],df_problem_row['problem'])\n",
    "    multipleChoice.set_choice(df_problem_row['A'],df_problem_row['B'],df_problem_row['C'],df_problem_row['D'])\n",
    "    return multipleChoice\n",
    "\n",
    "def __build_Judge(df_problem_row):\n",
    "    judge = Judge(df_problem_row['problemid'],df_problem_row['type'],df_problem_row['problem'])\n",
    "    judge.set_choice(df_problem_row['A'],df_problem_row['B'])\n",
    "    return judge\n",
    "\n",
    "def __build_FillBlanks(m,problem_index,problemid,problemTypeNum,problem,df_problem_all):\n",
    "    pass\n",
    "\n",
    "def __CodeProblem_None(m,problem_index,problemid,problemTypeNum,problem,df_problem_all):\n",
    "    pass\n",
    "\n",
    "\n",
    "# 这个函数给前端调用，返回一个大题的所有小题\n",
    "# 前端提供输入参数：problem_set 大题名称，后端是表名\n",
    "# 返回值：小题对象的列表\n",
    "def build_problem_list(problem_set):\n",
    "    # 读问题表：\n",
    "    sheet_choose=PROBLEM_SET_DICT[problem_set]\n",
    "    #提取该题库对应的sheet\n",
    "    df_problem_all=pd.read_excel('excel_all.xlsx',sheet_name=sheet_choose)\n",
    "    result_list=[]\n",
    "    for index,row in df_problem_all.iterrows():\n",
    "        problem_type = row['type']\n",
    "        if problem_type==1:  # 要改\n",
    "            result_list.append(__build_SingleChoice(row))\n",
    "        elif problem_type==2:\n",
    "            result_list.append(__build_Judge(row))\n",
    "        elif problem_type==3:\n",
    "            result_list.append(__build_MultipleChoice(row))\n",
    "        elif problem_type==4:\n",
    "            result_list.append(__build_FillBlanks(row))\n",
    "        else:\n",
    "            continue\n",
    "    return result_list"
   ]
  },
  {
   "cell_type": "code",
   "execution_count": 55,
   "metadata": {},
   "outputs": [],
   "source": [
    "#从excel中取出存储的答案,存在字典中\n",
    "# 返回值：字典：key是题号，value是answer对象\n",
    "def __read_answer():\n",
    "    df_answer=pd.read_excel('excel_all.xlsx',sheet_name='Answer')\n",
    "    answer_list = dict()\n",
    "    for indwx, row in df_answer.iterrows():\n",
    "        answer_list[row['problemid']] = Answer(row['problemid'],row['type'],row['answer'])\n",
    "    return answer_list\n",
    "\n",
    "# 前端调用的函数：用户选择和答案匹配\n",
    "# 输入参数：name：用户名称；user_choice: {题号:'用户选择'}\n",
    "def match_answer(name, user_choice):\n",
    "    answer_list = __read_answer()\n",
    "    right = dict()\n",
    "    wrong = dict()\n",
    "    for k,v in user_choice.items():\n",
    "        answer = answer_list[k]\n",
    "        type = answer.type\n",
    "        if type==3:\n",
    "            v = sorted(v)\n",
    "        if v==answer.answer:\n",
    "            right[k]=type\n",
    "        else:\n",
    "            wrong[k]=type\n",
    "    # 把right和wrong写表"
   ]
  },
  {
   "cell_type": "code",
   "execution_count": null,
   "metadata": {},
   "outputs": [],
   "source": [
    "#随机选取5道题\n",
    "#生成5个随机数\n",
    "row_len=df_problem_all.shape[0]\n",
    "lista=random.sample(range(0,row_len),5)\n",
    "lista=sorted(lista)"
   ]
  },
  {
   "cell_type": "code",
   "execution_count": 3,
   "metadata": {},
   "outputs": [
    {
     "data": {
      "text/html": [
       "<div>\n",
       "<style scoped>\n",
       "    .dataframe tbody tr th:only-of-type {\n",
       "        vertical-align: middle;\n",
       "    }\n",
       "\n",
       "    .dataframe tbody tr th {\n",
       "        vertical-align: top;\n",
       "    }\n",
       "\n",
       "    .dataframe thead th {\n",
       "        text-align: right;\n",
       "    }\n",
       "</style>\n",
       "<table border=\"1\" class=\"dataframe\">\n",
       "  <thead>\n",
       "    <tr style=\"text-align: right;\">\n",
       "      <th></th>\n",
       "      <th>ID</th>\n",
       "      <th>name</th>\n",
       "      <th>passwd</th>\n",
       "      <th>right</th>\n",
       "      <th>wrong</th>\n",
       "    </tr>\n",
       "  </thead>\n",
       "  <tbody>\n",
       "    <tr>\n",
       "      <th>0</th>\n",
       "      <td>NaN</td>\n",
       "      <td>test_user</td>\n",
       "      <td>12345.0</td>\n",
       "      <td>2,3,4</td>\n",
       "      <td>a,b,c</td>\n",
       "    </tr>\n",
       "    <tr>\n",
       "      <th>1</th>\n",
       "      <td>NaN</td>\n",
       "      <td>test_u2</td>\n",
       "      <td>NaN</td>\n",
       "      <td>2,3,4</td>\n",
       "      <td>a,b,c</td>\n",
       "    </tr>\n",
       "  </tbody>\n",
       "</table>\n",
       "</div>"
      ],
      "text/plain": [
       "   ID       name   passwd  right  wrong\n",
       "0 NaN  test_user  12345.0  2,3,4  a,b,c\n",
       "1 NaN    test_u2      NaN  2,3,4  a,b,c"
      ]
     },
     "execution_count": 3,
     "metadata": {},
     "output_type": "execute_result"
    }
   ],
   "source": [
    "import pandas as pd\n",
    "df_user = pd.read_excel('excel_all.xlsx', sheet_name='User')\n",
    "\n",
    "df_user"
   ]
  },
  {
   "cell_type": "code",
   "execution_count": 1,
   "metadata": {},
   "outputs": [
    {
     "ename": "NameError",
     "evalue": "name 'pd' is not defined",
     "output_type": "error",
     "traceback": [
      "\u001b[1;31m---------------------------------------------------------------------------\u001b[0m",
      "\u001b[1;31mNameError\u001b[0m                                 Traceback (most recent call last)",
      "\u001b[1;32m~\\AppData\\Local\\Temp\\ipykernel_21364\\1923869107.py\u001b[0m in \u001b[0;36m<module>\u001b[1;34m\u001b[0m\n\u001b[1;32m----> 1\u001b[1;33m \u001b[0mdf_right\u001b[0m \u001b[1;33m=\u001b[0m \u001b[0mpd\u001b[0m\u001b[1;33m.\u001b[0m\u001b[0mDataFrame\u001b[0m\u001b[1;33m(\u001b[0m\u001b[1;33m{\u001b[0m\u001b[1;34m'right'\u001b[0m\u001b[1;33m:\u001b[0m \u001b[1;33m[\u001b[0m\u001b[1;34m'1,2,3'\u001b[0m\u001b[1;33m]\u001b[0m\u001b[1;33m,\u001b[0m\u001b[1;34m'name'\u001b[0m\u001b[1;33m:\u001b[0m\u001b[1;33m[\u001b[0m\u001b[1;34m'test_user'\u001b[0m\u001b[1;33m]\u001b[0m\u001b[1;33m}\u001b[0m\u001b[1;33m)\u001b[0m\u001b[1;33m\u001b[0m\u001b[0m\n\u001b[0m\u001b[0;32m      2\u001b[0m \u001b[1;33m\u001b[0m\u001b[0m\n\u001b[0;32m      3\u001b[0m \u001b[1;32mfor\u001b[0m \u001b[0mi\u001b[0m\u001b[1;33m,\u001b[0m\u001b[0mr\u001b[0m \u001b[1;32min\u001b[0m \u001b[0mdf_user\u001b[0m\u001b[1;33m.\u001b[0m\u001b[0miterrows\u001b[0m\u001b[1;33m(\u001b[0m\u001b[1;33m)\u001b[0m\u001b[1;33m:\u001b[0m\u001b[1;33m\u001b[0m\u001b[0m\n\u001b[0;32m      4\u001b[0m     \u001b[1;32mif\u001b[0m \u001b[0mr\u001b[0m\u001b[1;33m[\u001b[0m\u001b[1;34m'name'\u001b[0m\u001b[1;33m]\u001b[0m\u001b[1;33m==\u001b[0m\u001b[1;34m'test_user'\u001b[0m\u001b[1;33m:\u001b[0m\u001b[1;33m\u001b[0m\u001b[0m\n\u001b[0;32m      5\u001b[0m         \u001b[0mdf_user\u001b[0m\u001b[1;33m.\u001b[0m\u001b[0miloc\u001b[0m\u001b[1;33m[\u001b[0m\u001b[0mi\u001b[0m\u001b[1;33m,\u001b[0m\u001b[1;36m3\u001b[0m\u001b[1;33m]\u001b[0m\u001b[1;33m=\u001b[0m\u001b[1;33m[\u001b[0m\u001b[1;34m'1,2,3'\u001b[0m\u001b[1;33m]\u001b[0m\u001b[1;33m\u001b[0m\u001b[0m\n",
      "\u001b[1;31mNameError\u001b[0m: name 'pd' is not defined"
     ]
    }
   ],
   "source": [
    "df_right = pd.DataFrame({'right': ['1,2,3'],'name':['test_user']})\n",
    "\n",
    "for i,r in df_user.iterrows():\n",
    "    if r['name']=='test_user':\n",
    "        df_user.iloc[i,3]=['1,2,3']\n",
    "    \n",
    "\n",
    "df_user"
   ]
  },
  {
   "cell_type": "code",
   "execution_count": 18,
   "metadata": {},
   "outputs": [],
   "source": [
    "writer = pd.ExcelWriter('excel_all.xlsx')\n",
    "df_user.to_excel(writer, sheet_name='User',index=False)# index = False表示不写入索引\n",
    "writer.save()"
   ]
  },
  {
   "cell_type": "code",
   "execution_count": 21,
   "metadata": {},
   "outputs": [
    {
     "data": {
      "text/plain": [
       "'1,2'"
      ]
     },
     "execution_count": 21,
     "metadata": {},
     "output_type": "execute_result"
    }
   ],
   "source": [
    "l=','.join(['1','2'])\n",
    "l"
   ]
  },
  {
   "cell_type": "code",
   "execution_count": null,
   "metadata": {},
   "outputs": [],
   "source": []
  },
  {
   "cell_type": "code",
   "execution_count": 17,
   "metadata": {},
   "outputs": [],
   "source": [
    "from openpyxl import load_workbook\n",
    "\n",
    "def write_user_right(name, right, wrong):\n",
    "    df_user = pd.read_excel('excel_all.xlsx', sheet_name='User')\n",
    "    \n",
    "    wb=load_workbook(r'excel_all.xlsx') #打开指定excel表\n",
    "    sheet=wb[\"User\"]\n",
    "    for index, row in df_user.iterrows():\n",
    "        if row['name'] == name:\n",
    "            sheet.cell(index+2,4,str(right))\n",
    "            sheet.cell(index+2,5,str(wrong))\n",
    "            break\n",
    "    wb.save(r\"excel_all.xlsx\")"
   ]
  },
  {
   "cell_type": "code",
   "execution_count": 19,
   "metadata": {},
   "outputs": [],
   "source": [
    "write_user_right('test_user','2,3,4','a,b,c')"
   ]
  },
  {
   "cell_type": "code",
   "execution_count": 21,
   "metadata": {},
   "outputs": [],
   "source": [
    "import xlwings as xw\n",
    "\n",
    "wb = xw.Book('excel_all.xlsx')\n",
    "sheet = xw.books['excel_all.xlsx'].sheets['User']\n",
    "# #在wb中新建一张新的sheet.可以指定位置\n",
    "# sht = wb.sheets.add(name=\"User\",before=None,after=None)\n",
    "# #df.values 不然会插入df的索引\n",
    "# sht.range(\"A1\").value = df.values\n",
    "rng = sheet.range('a1')\n",
    "rng\n",
    "wb.save()\n",
    "wb.close()"
   ]
  },
  {
   "cell_type": "code",
   "execution_count": 20,
   "metadata": {},
   "outputs": [
    {
     "data": {
      "text/plain": [
       "['A', 'C']"
      ]
     },
     "execution_count": 20,
     "metadata": {},
     "output_type": "execute_result"
    }
   ],
   "source": [
    "a = sorted('CA')\n",
    "a"
   ]
  },
  {
   "cell_type": "code",
   "execution_count": null,
   "metadata": {},
   "outputs": [],
   "source": []
  }
 ],
 "metadata": {
  "kernelspec": {
   "display_name": "Python 3.9.2 64-bit",
   "language": "python",
   "name": "python3"
  },
  "language_info": {
   "codemirror_mode": {
    "name": "ipython",
    "version": 3
   },
   "file_extension": ".py",
   "mimetype": "text/x-python",
   "name": "python",
   "nbconvert_exporter": "python",
   "pygments_lexer": "ipython3",
   "version": "3.9.2"
  },
  "orig_nbformat": 4,
  "vscode": {
   "interpreter": {
    "hash": "a31df6030afcfe408fc007cabfea9f180242d0344df6c9a8d5718aa88a517c2a"
   }
  }
 },
 "nbformat": 4,
 "nbformat_minor": 2
}
